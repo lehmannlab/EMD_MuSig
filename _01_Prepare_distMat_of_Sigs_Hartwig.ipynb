{
 "cells": [
  {
   "cell_type": "markdown",
   "id": "83f20a6a-b9fb-4a36-8d3e-059b09412cad",
   "metadata": {},
   "source": [
    "## This notebook is used to generate the distance matrices between SBS signatures that are used as cost matrices during EMD calculation between samples regarding signature exposures (for Hartwig data)"
   ]
  },
  {
   "cell_type": "code",
   "execution_count": null,
   "id": "8dc1c790-68db-47e4-bdff-05893b040874",
   "metadata": {},
   "outputs": [],
   "source": [
    "import pandas as pd\n",
    "import numpy as np\n",
    "import matplotlib.pyplot as plt\n",
    "import seaborn as sns"
   ]
  },
  {
   "cell_type": "markdown",
   "id": "159be073-ee5d-4bb9-a358-3bffd611905b",
   "metadata": {},
   "source": [
    "## Load the Etiology information of SBS Signatures. \n",
    "The file 'Etiology Information of Signatures_SBS5_Unknown_20240527.csv' is generated in the '_Prepare_Signatures_in_Samples_Sigs_Etiology_Info.ipynb' notebook"
   ]
  },
  {
   "cell_type": "code",
   "execution_count": null,
   "id": "c9113ad2-481e-4bb3-92d6-07c8f4cf7e61",
   "metadata": {},
   "outputs": [],
   "source": [
    "SigEtioTable = pd.read_csv('Etiology Information of Signatures_SBS5_Unknown_20240527.csv', index_col='Unnamed: 0')\n",
    "Sigs = SigEtioTable.index\n",
    "Sigs"
   ]
  },
  {
   "cell_type": "markdown",
   "id": "a926a832-22ac-4415-a8df-f9027b76057b",
   "metadata": {},
   "source": [
    "### Prepare the three diffrent distance matrix between signatutres\n",
    "The file 'sigProfiler_SBS_signatures_2019_05_22.csv' is downloaded from ICGC/PCAWG"
   ]
  },
  {
   "cell_type": "code",
   "execution_count": null,
   "id": "6488133b-4aa2-4d2c-9a3a-8ff24907e4c8",
   "metadata": {},
   "outputs": [],
   "source": [
    "from scipy.spatial.distance import euclidean\n",
    "from scipy.spatial.distance import cosine\n",
    "\n",
    "## Load the Signatures profile from PCAWG\n",
    "Sig_raw = pd.read_csv('sigProfiler_SBS_signatures_2019_05_22.csv')\n",
    "Sig = Sig_raw[Sigs]\n",
    "Sig\n",
    "\n",
    "#+++ cosine distance\n",
    "Sig_cosine = pd.DataFrame()\n",
    "\n",
    "for i in range(Sig.shape[1]):\n",
    "    for j in range(Sig.shape[1]):\n",
    "        dist_ = cosine(Sig.T.iloc[i, ], Sig.T.iloc[j, ])\n",
    "        Sig_cosine.loc[i, j] = dist_\n",
    "        \n",
    "Sig_cosine.columns, Sig_cosine.index = Sig.columns, Sig.columns   \n",
    "Sig_cosine\n"
   ]
  },
  {
   "cell_type": "code",
   "execution_count": null,
   "id": "d1c0c8b5-dcf2-4957-869d-aebc3d2691c7",
   "metadata": {},
   "outputs": [],
   "source": [
    "#+++ Define the distance between etiologies \n",
    "#+++ 0.01 for same etiologies\n",
    "#+++ 1 for different etiologies\n",
    "#+++ ...and iterate trough a range of 0.1 to 0.9 for the remaining etiologies\n",
    "#+++ The distance for unkown/artifact signatures was set to 0.5 to minimalize their influence on the clustering\n",
    "\n",
    "one_data = np.ones(shape=(67, 67))\n",
    "n = len(one_data)\n",
    "for i in range(n):\n",
    "    one_data[i][i] = 0\n",
    "    \n",
    "Sig_uniform = pd.DataFrame(one_data, columns=Sig.columns, index=Sig.columns)\n",
    "\n",
    "def build_Sig_func(tuning_dist):\n",
    "\n",
    "    \"\"\"\n",
    "    Build the aetiology matrix of signatures, \n",
    "    based on the given distance related to unknown or artefact signatures\n",
    "    \"\"\"\n",
    "\n",
    "    global SigEtioTable\n",
    "    global Sig_uniform\n",
    "    \n",
    "    Sig_func = Sig_uniform.copy()\n",
    "    n = Sig_func.shape[0]\n",
    "    \n",
    "    for i in range(n):\n",
    "        for j in range(n):\n",
    "            col = Sig_func.columns[i]\n",
    "            row = Sig_func.columns[j]\n",
    "            if (\n",
    "                (SigEtioTable.loc[col] == SigEtioTable.loc[row]).iloc[0] and \n",
    "                (SigEtioTable.loc[col] != 'Unknown').iloc[0] and \n",
    "                (SigEtioTable.loc[col] != 'Artefact').iloc[0] and \n",
    "                (SigEtioTable.loc[row] != 'Unknown').iloc[0] and \n",
    "                (SigEtioTable.loc[row] != 'Artefact').iloc[0]\n",
    "            ): \n",
    "                Sig_func.iloc[i, j] = 0.01\n",
    "            elif (\n",
    "                (SigEtioTable.loc[col] != SigEtioTable.loc[row]).iloc[0] and \n",
    "                (SigEtioTable.loc[col] != 'Unknown').iloc[0] and \n",
    "                (SigEtioTable.loc[col] != 'Artefact').iloc[0] and \n",
    "                (SigEtioTable.loc[row] != 'Unknown').iloc[0] and \n",
    "                (SigEtioTable.loc[row] != 'Artefact').iloc[0]\n",
    "            ): \n",
    "                Sig_func.iloc[i, j] = 1.0\n",
    "            else:\n",
    "                Sig_func.iloc[i, j] = tuning_dist\n",
    "    \n",
    "    arr = Sig_func.values \n",
    "    np.fill_diagonal(arr, 0) # set the diagonal to 0\n",
    "    Sig_func = pd.DataFrame(arr, columns=Sig_func.columns, index=Sig_func.index)  # convert the array back to a DataFrame\n",
    "    return Sig_func\n",
    "\n",
    "Sig_funcs = []\n",
    "tuning_dist = 0.1\n",
    "while tuning_dist <= 0.9:\n",
    "    Sig_func = build_Sig_func(tuning_dist)\n",
    "    Sig_funcs.append(Sig_func)\n",
    "    tuning_dist += 0.05\n",
    "\n",
    "len(Sig_funcs)"
   ]
  },
  {
   "cell_type": "code",
   "execution_count": null,
   "id": "9536026e-a8e4-4118-b0af-bbbc4d69f540",
   "metadata": {},
   "outputs": [],
   "source": [
    "### Hybrid distance matrix \n",
    "\n",
    "## If the two signatures are known, use the Sig_func value, otherwise using the Sig_cosine value\n",
    "Sig_hybrid = Sig_funcs[0].copy()\n",
    "Sig_cosine\n",
    "\n",
    "# Creat a boolean mask for values eauqal to 0.1 in Sig_hybrid\n",
    "mask = (Sig_hybrid == 0.1)\n",
    "# Update values in Sig_func with corresponding values from Sig_cosine where mask is True\n",
    "Sig_hybrid[mask] = Sig_cosine[mask]\n",
    "Sig_hybrid\n",
    "\n"
   ]
  },
  {
   "cell_type": "code",
   "execution_count": null,
   "id": "662c38fe-dbb4-44a4-aaff-1865038f55c3",
   "metadata": {},
   "outputs": [],
   "source": [
    "### Draw the map of distance matrix between signatures\n",
    "\n",
    "def draw_distmap(distMat, distType):\n",
    "\n",
    "    plt.figure(figsize=(24, 22))\n",
    "    g = sns.clustermap(distMat, annot=False, cmap='viridis', linewidths=.5, fmt='.2f', xticklabels=True, yticklabels=True)\n",
    "\n",
    "    # Adjust x-tick and y-tick label sizes\n",
    "    g.ax_heatmap.set_xticklabels(g.ax_heatmap.get_xticklabels(), fontsize=7)\n",
    "    g.ax_heatmap.set_yticklabels(g.ax_heatmap.get_yticklabels(), fontsize=7)\n",
    "\n",
    "    plt.title(f'{distType} distance between SBS signatures', size=15, loc='left')\n",
    "    plt.savefig(f'{distType} distance between SBS signatures_exper01_Hartwig.pdf', format=\"pdf\", dpi=299, bbox_inches=\"tight\")\n",
    "    plt.show()\n",
    "\n",
    "Sig_cosine\n",
    "Sig_funcs\n",
    "Sig_hybrid\n",
    "\n",
    "# Draw plots for Cosine and Hybrid\n",
    "distMats = [Sig_cosine, Sig_hybrid]\n",
    "distTypes = ['Cosine', 'Hybrid']\n",
    "for distMat, distType in zip(distMats, distTypes):\n",
    "    draw_distmap(distMat, distType)\n",
    "\n",
    "# Draw plots for Aetiology distance\n",
    "distMats = Sig_funcs\n",
    "distTypes = []\n",
    "tuning_dist = 0.1\n",
    "\n",
    "while tuning_dist <= 0.9:\n",
    "    type = f'Etiology distance with thirdDist={tuning_dist:.2f}'\n",
    "    distTypes.append(type)\n",
    "    tuning_dist += 0.05\n",
    "    \n",
    "for distMat, distType in zip(distMats, distTypes):\n",
    "    draw_distmap(distMat, distType)"
   ]
  },
  {
   "cell_type": "code",
   "execution_count": null,
   "id": "ac1d091a-fc04-4e18-88e4-089c834f9546",
   "metadata": {},
   "outputs": [],
   "source": [
    "### Save the distance matrix\n",
    "\n",
    "## For Cosine and Hybrid distance\n",
    "distMats = [Sig_cosine, Sig_hybrid]\n",
    "distTypes = ['Cosine', 'Hybrid']\n",
    "for distMat, distType in zip(distMats, distTypes):\n",
    "    distMat.to_csv(f'{distType} distance between SBS signatures_exper01_Hartwig.csv')\n",
    "\n",
    "## For etiological distance\n",
    "distMats = Sig_funcs\n",
    "distTypes = []\n",
    "tuning_dist = 0.1\n",
    "while tuning_dist <= 0.9:\n",
    "    type = f'Etiology Distance with thirdDist={tuning_dist:.2f}'\n",
    "    distTypes.append(type)\n",
    "    tuning_dist += 0.05 \n",
    "for distMat, distType in zip(distMats, distTypes):\n",
    "    distMat.to_csv(f'{distType} distance between SBS signatures_exper01_Hartwig.csv')\n",
    "\n"
   ]
  }
 ],
 "metadata": {
  "kernelspec": {
   "display_name": "Python 3 (ipykernel)",
   "language": "python",
   "name": "python3"
  },
  "language_info": {
   "codemirror_mode": {
    "name": "ipython",
    "version": 3
   },
   "file_extension": ".py",
   "mimetype": "text/x-python",
   "name": "python",
   "nbconvert_exporter": "python",
   "pygments_lexer": "ipython3",
   "version": "3.9.18"
  }
 },
 "nbformat": 4,
 "nbformat_minor": 5
}
